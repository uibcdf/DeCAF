{
 "cells": [
  {
   "cell_type": "code",
   "execution_count": 1,
   "id": "5d25980a-1904-47aa-a8e8-39b550500f1c",
   "metadata": {},
   "outputs": [],
   "source": [
    "import warnings\n",
    "warnings.filterwarnings('ignore')\n",
    "\n",
    "import pandas as pd\n",
    "import seaborn as sns\n",
    "from glob import glob\n",
    "import os.path\n",
    "from matplotlib.pyplot import subplots\n",
    "import numpy as np\n",
    "\n",
    "from tqdm import tqdm\n",
    "from pathlib import Path"
   ]
  },
  {
   "cell_type": "markdown",
   "id": "8f0989e4-1861-493d-83a4-5fba21219b35",
   "metadata": {},
   "source": [
    "# Retrieve activity data from ChEMBL"
   ]
  },
  {
   "cell_type": "code",
   "execution_count": 2,
   "id": "b7a1bda2-d36f-42ff-926b-850e168abda9",
   "metadata": {},
   "outputs": [],
   "source": [
    "from chembl_webresource_client.new_client import new_client\n",
    "\n",
    "activity = new_client.activity\n",
    "target = new_client.target"
   ]
  },
  {
   "cell_type": "code",
   "execution_count": 12,
   "id": "c1593b68-9efc-4a3c-8a2c-4964cc9e5e3b",
   "metadata": {},
   "outputs": [
    {
     "name": "stderr",
     "output_type": "stream",
     "text": [
      "100%|███████████████████████████████████████████████████████████████████████████████████████████████████████████████████████████| 73/73 [00:01<00:00, 58.65it/s]\n"
     ]
    }
   ],
   "source": [
    "targets={}\n",
    "\n",
    "target_paths = list(Path('../data/targets').glob('*.tab'))\n",
    "\n",
    "for target_path in tqdm(target_paths):\n",
    "    protein_name = target_path.stem\n",
    "    targets[protein_name]={}\n",
    "    for line in open(target_path):\n",
    "        tmp = line.split(\"\\t\")\n",
    "        uniprot_id = tmp[0]\n",
    "        uniprot_name = tmp[1]\n",
    "        target_data_in_chembl = target.filter(target_components__accession=uniprot_id)\n",
    "        aux_dict = {}\n",
    "        for ii in target_data_in_chembl:\n",
    "            aux_dict[ii['target_chembl_id']]=ii['target_type']\n",
    "        targets[protein_name][uniprot_id]=aux_dict"
   ]
  },
  {
   "cell_type": "code",
   "execution_count": 14,
   "id": "787c0591-7a37-462e-8123-55e4aa2ef18b",
   "metadata": {},
   "outputs": [
    {
     "name": "stdout",
     "output_type": "stream",
     "text": [
      "Number of uniprot_ids: 340\n",
      "Number of single protein targets: 277\n",
      "Proteins without single protein targets: []\n"
     ]
    }
   ],
   "source": [
    "n_uniprot_ids=0\n",
    "n_single_protein_targets=0\n",
    "no_single_protein_target=[]\n",
    "\n",
    "for protein_name in targets:\n",
    "    protein_with_single_protein_target=False\n",
    "    for uniprot_id in targets[protein_name]:\n",
    "        n_uniprot_ids += 1\n",
    "        for target_name, target_type in targets[protein_name][uniprot_id].items():\n",
    "            if target_type == 'SINGLE PROTEIN':\n",
    "                n_single_protein_targets += 1\n",
    "                protein_with_single_protein_target=True\n",
    "                break\n",
    "    if protein_with_single_protein_target==False:\n",
    "        no_single_protein_target.append(protein_name)\n",
    "\n",
    "print('Number of uniprot_ids: {}'.format(n_uniprot_ids))\n",
    "print('Number of single protein targets: {}'.format(n_single_protein_targets))\n",
    "print('Proteins without single protein targets: {}'.format(no_single_protein_target))"
   ]
  },
  {
   "cell_type": "code",
   "execution_count": null,
   "id": "243ef2b4-c3b6-4173-a92f-cdd99d2f5ac8",
   "metadata": {},
   "outputs": [],
   "source": [
    "activity = new_client.activity\n",
    "target = new_client.target\n",
    "\n",
    "names = []\n",
    "\n",
    "all_data = pd.DataFrame(columns=['name', 'uniprot_id', 'uniprot_name', 'target_chembl_id',\n",
    "                                 'assay_chembl_id', 'molecule_chembl_id', 'type', 'relation',\n",
    "                                 'value', 'units'])\n",
    "\n",
    "target_files=glob(\"../data/targets/*\")\n",
    "\n",
    "aux_list = [target_files[0]]\n",
    "\n",
    "for i in aux_list:\n",
    "    name = i.split(\"/\")[-1][:-4]\n",
    "    print(name)\n",
    "    names.append(name)\n",
    "    f = open(i)\n",
    "    for line in f:\n",
    "        tmp = line.split(\"\\t\")\n",
    "        uniprot_id = tmp[0]\n",
    "        uniprot_name = tmp[1]\n",
    "        target_data_in_chembl = target.filter(target_components__accession=uniprot_id)\n",
    "        if len(target_data_in_chembl)==0:\n",
    "            print('no data for', uniprot_id, uniprot_name)\n",
    "        else:\n",
    "            single_protein_target_chembl_id = None\n",
    "            for target in target_data_in_chembl:\n",
    "                if target['target_type']=='SINGLE PROTEIN':\n",
    "                    target_chembl_id = target['target_chembl_id']\n",
    "                    break\n",
    "            activity_data = activity.filter(target_chembl_id=target_chembl_id)\n",
    "            for activity_entry in activity_data:\n",
    "                aux_dict = {'name': name,\n",
    "                            'uniprot_id': uniprot_id,\n",
    "                            'uniprot_name': uniprot_name,\n",
    "                            'target_chembl_id': target_chembl_id,\n",
    "                            'assay_chembl_id': activity_entry['assay_chembl_id'],\n",
    "                            'molecule_chembl_id': activity_entry['molecule_chembl_id'],\n",
    "                            'type': activity_entry['type'],\n",
    "                            'relation': activity_entry['relation'],\n",
    "                            'value': activity_entry['value'],\n",
    "                            'units': activity_entry['units']}\n",
    "                all_data = all_data.append(aux_dict, ignore_index = True)\n",
    "            "
   ]
  },
  {
   "cell_type": "code",
   "execution_count": null,
   "id": "40565f9d-4c14-4247-b12a-f2e3574b667c",
   "metadata": {},
   "outputs": [],
   "source": [
    "all_data"
   ]
  },
  {
   "cell_type": "code",
   "execution_count": null,
   "id": "c5fde5fe-ca72-4a31-9524-2b176569f71f",
   "metadata": {},
   "outputs": [],
   "source": [
    "activity_data[0]"
   ]
  },
  {
   "cell_type": "code",
   "execution_count": null,
   "id": "f8b62aef-6a89-43d6-baad-5e0702061294",
   "metadata": {},
   "outputs": [],
   "source": [
    "all_data = pd.DataFrame(columns=['name', 'uniprot_id', 'uniprot_name', 'target_chembl_id',\n",
    "                                 'assay_chembl_id', 'molecule_chembl_id', 'type', 'value',\n",
    "                                 'units'])\n",
    "\n",
    "uniprot_id = 'Q9ERK7'\n",
    "uniprot_name = 'CHRNA10'\n",
    "target_data_in_chembl = target.filter(target_components__accession=uniprot_id)\n",
    "if len(target_data_in_chembl)==0:\n",
    "    print('no data for', uniprot_id, uniprot_name)\n",
    "else:\n",
    "    if (len(target_data_in_chembl)>1):\n",
    "        print('ups in uniprot_id', uniprot_id)\n",
    "    target_chembl_id = target_data_in_chembl[0]['target_chembl_id']\n",
    "    activity_data = activity.filter(target_chembl_id=target_chembl_id)\n",
    "    for activity_entry in activity_data:\n",
    "        aux_dict = {'name': name,\n",
    "            'uniprot_id': uniprot_id,\n",
    "            'uniprot_name': uniprot_name,\n",
    "            'target_chembl_id': target_chembl_id,\n",
    "            'assay_chembl_id': activity_entry['assay_chembl_id'],\n",
    "            'molecule_chembl_id': activity_entry['molecule_chembl_id'],\n",
    "            'type': activity_entry['type'],\n",
    "            'value': activity_entry['value'],\n",
    "            'units': activity_entry['units']}\n",
    "        all_data = all_data.append(aux_dict, ignore_index = True)"
   ]
  },
  {
   "cell_type": "code",
   "execution_count": null,
   "id": "26d707bd-0043-423f-8f82-aaf59085c6e8",
   "metadata": {},
   "outputs": [],
   "source": [
    "all_data"
   ]
  },
  {
   "cell_type": "code",
   "execution_count": null,
   "id": "ac6f11ae-719c-4765-85d7-fe2dda724b59",
   "metadata": {},
   "outputs": [],
   "source": [
    "target_chembl_id"
   ]
  },
  {
   "cell_type": "code",
   "execution_count": null,
   "id": "7edab74d-2cb9-426e-bc75-2ea1095f7b24",
   "metadata": {},
   "outputs": [],
   "source": [
    "activity_data = activity.filter(target_chembl_id=target_chembl_id)"
   ]
  },
  {
   "cell_type": "code",
   "execution_count": null,
   "id": "fe5e4257-954d-4df3-b5f8-002a64110121",
   "metadata": {},
   "outputs": [],
   "source": [
    "len(activity_data)"
   ]
  },
  {
   "cell_type": "code",
   "execution_count": null,
   "id": "0254dc7a-1ea2-4c41-982e-19e8d9c832ad",
   "metadata": {},
   "outputs": [],
   "source": [
    "uniprot_id = 'P43144'\n",
    "\n",
    "target_data_in_chembl = target.filter(target_components__accession=uniprot_id)\n",
    "\n",
    "for ii in target_data_in_chembl:\n",
    "    print(ii['target_type'], ii['target_chembl_id'])"
   ]
  },
  {
   "cell_type": "code",
   "execution_count": null,
   "id": "3f6a244c-a4f2-4e90-a223-b6382d5e6c06",
   "metadata": {},
   "outputs": [],
   "source": [
    "for ii in range(5):\n",
    "    print(target_data_in_chembl[ii]['target_type'], target_data_in_chembl[ii]['target_chembl_id'])"
   ]
  },
  {
   "cell_type": "code",
   "execution_count": null,
   "id": "d0bde94e-d743-4aa8-8d29-040504bd11e9",
   "metadata": {},
   "outputs": [],
   "source": [
    "target_data_in_chembl[0]"
   ]
  },
  {
   "cell_type": "code",
   "execution_count": null,
   "id": "7f50af7c-c8e2-4184-bc3a-7af3f9050c62",
   "metadata": {},
   "outputs": [],
   "source": []
  }
 ],
 "metadata": {
  "kernelspec": {
   "display_name": "Python 3 (ipykernel)",
   "language": "python",
   "name": "python3"
  },
  "language_info": {
   "codemirror_mode": {
    "name": "ipython",
    "version": 3
   },
   "file_extension": ".py",
   "mimetype": "text/x-python",
   "name": "python",
   "nbconvert_exporter": "python",
   "pygments_lexer": "ipython3",
   "version": "3.7.12"
  }
 },
 "nbformat": 4,
 "nbformat_minor": 5
}
