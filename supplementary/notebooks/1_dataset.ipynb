{
 "cells": [
  {
   "cell_type": "code",
   "execution_count": 1,
   "metadata": {
    "collapsed": false,
    "jupyter": {
     "outputs_hidden": false
    }
   },
   "outputs": [],
   "source": [
    "import warnings\n",
    "warnings.filterwarnings('ignore')\n",
    "\n",
    "import pandas as pd\n",
    "import seaborn as sns\n",
    "from glob import glob\n",
    "import os.path\n",
    "from matplotlib.pyplot import subplots\n",
    "import numpy as np\n",
    "\n",
    "\n",
    "%matplotlib inline"
   ]
  },
  {
   "cell_type": "markdown",
   "metadata": {},
   "source": [
    "# Retrieve activity data from ChEMBL"
   ]
  },
  {
   "cell_type": "code",
   "execution_count": 2,
   "metadata": {},
   "outputs": [],
   "source": [
    "import urllib\n",
    "import json\n",
    "import re"
   ]
  },
  {
   "cell_type": "code",
   "execution_count": 3,
   "metadata": {
    "collapsed": false,
    "jupyter": {
     "outputs_hidden": false
    }
   },
   "outputs": [],
   "source": [
    "def is_number(s):\n",
    "    try:\n",
    "        float(s)\n",
    "        return True\n",
    "    except ValueError:\n",
    "        return False\n",
    "\n",
    "def get_ligands(accession):\n",
    "\n",
    "    data = []\n",
    "\n",
    "    target_data = json.loads(urllib.urlopen(\"https://www.ebi.ac.uk/chemblws/targets/uniprot/%s.json\" %\n",
    "                                             accession).read())\n",
    "    bioactivity_data = json.loads(urllib.urlopen(\"https://www.ebi.ac.uk/chemblws/targets/%s/bioactivities.json\" %\n",
    "                                                  target_data['target']['chemblId']).read())\n",
    "\n",
    "    for bioactivity in bioactivity_data['bioactivities']:\n",
    "        \n",
    "        if not is_number(bioactivity[\"value\"]):\n",
    "            continue\n",
    "\n",
    "        row = {}\n",
    "        \n",
    "        for key in [\"bioactivity_type\", \"operator\", \"value\", \"units\", \"target_chemblid\",\n",
    "                    \"ingredient_cmpd_chemblid\"]:\n",
    "            row[key] = bioactivity[key]\n",
    "        data.append(row)\n",
    "\n",
    "    return data"
   ]
  },
  {
   "cell_type": "code",
   "execution_count": 4,
   "metadata": {
    "collapsed": false,
    "jupyter": {
     "outputs_hidden": false
    }
   },
   "outputs": [
    {
     "name": "stdout",
     "output_type": "stream",
     "text": [
      "CHRNA10\n",
      "NPY2R\n",
      "ADORA2A\n",
      "HTR1A\n",
      "MC3R\n",
      "SLC6A3\n",
      "MC4R\n",
      "ESR1\n",
      "PTGS1\n",
      "SLC29A1\n",
      "SCN5A\n",
      "CRHR1\n",
      "HRH1\n",
      "HTR3A\n",
      "ADRA2B\n",
      "NR1I2\n",
      "NR3C1\n",
      "MLN\n",
      "DRD1\n",
      "EDNRA\n",
      "SLC6A2\n",
      "AVPR2\n",
      "ADRA2C\n",
      "PGR\n",
      "DRD3\n",
      "GRIN3A\n",
      "GABRA1\n",
      "PDE4D\n",
      "PTGS2\n",
      "CHRM3\n",
      "HTR2B\n",
      "NPY1R\n",
      "CHRM2\n",
      "DRD4\n",
      "SLC6A4\n",
      "HTR2A\n",
      "ADRA2A\n",
      "ADRB1\n",
      "CACNA1C\n",
      "AGTR1\n",
      "CNR1\n",
      "GIPR\n",
      "EDNRB\n",
      "GHSR\n",
      "OPRK1\n",
      "HRH2\n",
      "CACNA1B\n",
      "PDE3A\n",
      "CCKBR\n",
      "CCKAR\n",
      "GPR109A\n",
      "ADORA3\n",
      "ADRB3\n",
      "CHRM1\n",
      "ADORA1\n",
      "TACR1\n",
      "ESR2\n",
      "MAOA\n",
      "KCNH2\n",
      "BDKRB1\n",
      "DRD2\n",
      "OPRD1\n",
      "ADRA1A\n",
      "AR\n",
      "ADRB2\n",
      "BDKRB2\n",
      "HRH3\n",
      "TBXA2R\n",
      "HTR2C\n",
      "AVPR1A\n",
      "NTSR1\n",
      "OPRM1\n",
      "CRHR2\n"
     ]
    }
   ],
   "source": [
    "names = []\n",
    "\n",
    "if os.path.exists(\"../data/raw_data.csv\"):\n",
    "    all_data = pd.read_csv(\"../data/raw_data.csv\", index_col=0)\n",
    "    for i in glob(\"../data/targets/*\"):\n",
    "        name = i.split(\"/\")[-1][:-4]\n",
    "        print(name)\n",
    "        names.append(name)\n",
    "\n",
    "else:\n",
    "    all_data = pd.DataFrame(columns=[\"name\", \"uniprot_name\", \"target_chemblid\", \"bioactivity_type\", \"operator\",\n",
    "                                     \"value\", \"units\", \"ingredient_cmpd_chemblid\"])\n",
    "\n",
    "    for i in glob(\"../data/targets/*\"):\n",
    "        name = i.split(\"/\")[-1][:-4]\n",
    "        print(name)\n",
    "        names.append(name)\n",
    "        f = open(i)\n",
    "        for line in f:\n",
    "            tmp = line.split(\"\\t\")\n",
    "            accession = tmp[0]\n",
    "            uniprot_name = tmp[1]\n",
    "            try:\n",
    "                tmp_data = get_ligands(accession)\n",
    "                if tmp_data:\n",
    "                    tmp_pd = pd.DataFrame(data=tmp_data, columns=[\"name\", \"uniprot_name\", \"target_chemblid\",\n",
    "                                                                  \"units\", \"bioactivity_type\", \"operator\",\n",
    "                                                                  \"value\", \"ingredient_cmpd_chemblid\"])\n",
    "                    tmp_pd[\"name\"] = name\n",
    "                    tmp_pd[\"uniprot_name\"] = uniprot_name\n",
    "\n",
    "                    all_data = pd.concat([all_data, tmp_pd], ignore_index=True)\n",
    "            except:\n",
    "                continue\n",
    "\n",
    "        f.close()\n",
    "    all_data.to_csv(\"../data/raw_data.csv\")"
   ]
  },
  {
   "cell_type": "code",
   "execution_count": null,
   "metadata": {
    "collapsed": false,
    "jupyter": {
     "outputs_hidden": false
    }
   },
   "outputs": [],
   "source": [
    "all_data[\"bioactivity_type\"].unique()"
   ]
  },
  {
   "cell_type": "code",
   "execution_count": null,
   "metadata": {
    "collapsed": false,
    "jupyter": {
     "outputs_hidden": false
    }
   },
   "outputs": [],
   "source": [
    "all_data[\"units\"].unique()"
   ]
  },
  {
   "cell_type": "code",
   "execution_count": null,
   "metadata": {
    "collapsed": false,
    "jupyter": {
     "outputs_hidden": false
    }
   },
   "outputs": [],
   "source": [
    "len(all_data[\"uniprot_name\"].unique())"
   ]
  },
  {
   "cell_type": "code",
   "execution_count": null,
   "metadata": {
    "collapsed": false,
    "jupyter": {
     "outputs_hidden": false
    }
   },
   "outputs": [],
   "source": [
    "all_data[\"value\"] = all_data[\"value\"].astype(float)"
   ]
  },
  {
   "cell_type": "code",
   "execution_count": null,
   "metadata": {
    "collapsed": false,
    "jupyter": {
     "outputs_hidden": false
    }
   },
   "outputs": [],
   "source": [
    "idx_op = ((all_data[\"operator\"] == \"<\") | (all_data[\"operator\"] == \"<=\") |\n",
    "          (all_data[\"operator\"] == \"=\") | (all_data[\"operator\"] == \"~\"))\n",
    "\n",
    "idx_type = ((all_data[\"bioactivity_type\"] == \"IC50\") | (all_data[\"bioactivity_type\"] == \"EC50\") |\n",
    "            (all_data[\"bioactivity_type\"] == \"Ki\") | (all_data[\"bioactivity_type\"] == \"Kd\"))\n",
    "\n",
    "idx_val = (all_data[\"value\"] <= 1000)\n",
    "idx_units = (all_data[\"units\"] == \"nM\")\n",
    "idx_above0 = (all_data[\"value\"] >= 0)"
   ]
  },
  {
   "cell_type": "code",
   "execution_count": null,
   "metadata": {
    "collapsed": false,
    "jupyter": {
     "outputs_hidden": false
    }
   },
   "outputs": [],
   "source": [
    "cleaned_data = all_data[idx_op & idx_type & idx_val & idx_units & idx_above0]\n",
    "cleaned_data.to_csv(\"../data/cleaned_data.csv\")"
   ]
  },
  {
   "cell_type": "markdown",
   "metadata": {},
   "source": [
    "# Get SMILES"
   ]
  },
  {
   "cell_type": "code",
   "execution_count": null,
   "metadata": {
    "collapsed": false,
    "jupyter": {
     "outputs_hidden": false
    }
   },
   "outputs": [],
   "source": [
    "to_retrieve = list(cleaned_data[\"ingredient_cmpd_chemblid\"].unique())"
   ]
  },
  {
   "cell_type": "code",
   "execution_count": null,
   "metadata": {
    "collapsed": false,
    "jupyter": {
     "outputs_hidden": false
    }
   },
   "outputs": [],
   "source": [
    "len(to_retrieve)"
   ]
  },
  {
   "cell_type": "code",
   "execution_count": null,
   "metadata": {
    "collapsed": false,
    "jupyter": {
     "outputs_hidden": false
    }
   },
   "outputs": [],
   "source": [
    "def get_smiles(chembl_id):\n",
    "    cmpd_data = json.loads(urllib2.urlopen(\"https://www.ebi.ac.uk/chemblws/compounds/%s.json\" %\n",
    "                                           chembl_id).read())\n",
    "    if \"smiles\" not in cmpd_data[\"compound\"]:\n",
    "        return None\n",
    "    else:\n",
    "        return cmpd_data['compound'][\"smiles\"]"
   ]
  },
  {
   "cell_type": "code",
   "execution_count": null,
   "metadata": {},
   "outputs": [],
   "source": [
    "if os.path.exists(\"../data/chembl_smiles.csv\"):\n",
    "    cmpd_smiles = pd.read_csv(\"../data/chembl_smiles.csv\", index_col = 0)\n",
    "\n",
    "else:\n",
    "    smiles = []\n",
    "    for i in xrange(len(to_retrieve)):\n",
    "        if i%1000 == 0:\n",
    "            print i\n",
    "        smiles.append(get_smiles(to_retrieve[i]))\n",
    "    cmpd_smiles = pd.DataFrame({\"SMILES\": smiles, \"ingredient_cmpd_chemblid\": to_retrieve})\n",
    "    cmpd_smiles.to_csv(\"../data/chembl_smiles.csv\")"
   ]
  },
  {
   "cell_type": "code",
   "execution_count": null,
   "metadata": {
    "collapsed": false,
    "jupyter": {
     "outputs_hidden": false
    }
   },
   "outputs": [],
   "source": [
    "without_smiles = (cmpd_smiles[\"SMILES\"].isnull())\n",
    "sum(without_smiles)"
   ]
  },
  {
   "cell_type": "code",
   "execution_count": null,
   "metadata": {
    "collapsed": false,
    "jupyter": {
     "outputs_hidden": false
    }
   },
   "outputs": [],
   "source": [
    "cmpd_with_smiles = cmpd_smiles.dropna()\n",
    "with_smiles = pd.merge(cleaned_data, cmpd_with_smiles)"
   ]
  },
  {
   "cell_type": "markdown",
   "metadata": {},
   "source": [
    "# Filter out long peptides"
   ]
  },
  {
   "cell_type": "code",
   "execution_count": null,
   "metadata": {
    "collapsed": false,
    "jupyter": {
     "outputs_hidden": false
    }
   },
   "outputs": [],
   "source": [
    "from pybel import Smarts, readstring, readfile\n",
    "pept_bond = Smarts(\"[$([NX3H2,NX4H3+]),$([NX3H](C)(C))][CX4H]([*])[CX3](=[OX1])[OX2H,OX1-,N]\")"
   ]
  },
  {
   "cell_type": "code",
   "execution_count": null,
   "metadata": {
    "collapsed": false,
    "jupyter": {
     "outputs_hidden": false
    }
   },
   "outputs": [],
   "source": [
    "def pept_len(x):\n",
    "    # number of aminoacids in a molecule\n",
    "    return len(pept_bond.findall(readstring(\"smi\", x)))"
   ]
  },
  {
   "cell_type": "code",
   "execution_count": null,
   "metadata": {
    "collapsed": false,
    "jupyter": {
     "outputs_hidden": false
    }
   },
   "outputs": [],
   "source": [
    "with_smiles[\"pept\"] = with_smiles.apply(lambda x: pept_len(str(x[\"SMILES\"])), axis=1)"
   ]
  },
  {
   "cell_type": "code",
   "execution_count": null,
   "metadata": {},
   "outputs": [],
   "source": [
    "idx_nonpept = (with_smiles[\"pept\"] < 20)\n",
    "with_smiles = with_smiles[idx_nonpept]"
   ]
  },
  {
   "cell_type": "code",
   "execution_count": null,
   "metadata": {
    "collapsed": false,
    "jupyter": {
     "outputs_hidden": false
    }
   },
   "outputs": [],
   "source": [
    "cleaned_data.shape, with_smiles.shape"
   ]
  },
  {
   "cell_type": "code",
   "execution_count": null,
   "metadata": {
    "collapsed": false,
    "jupyter": {
     "outputs_hidden": false
    }
   },
   "outputs": [],
   "source": [
    "targets_groups = with_smiles.groupby([\"name\"])\n",
    "cmpd_uniq_counts = targets_groups.aggregate({\"ingredient_cmpd_chemblid\": lambda x: len(x.unique())})\n",
    "cmpd_uniq_counts.columns = [\"counts\"]\n",
    "cmpd_uniq_counts.head()"
   ]
  },
  {
   "cell_type": "code",
   "execution_count": null,
   "metadata": {
    "collapsed": false,
    "jupyter": {
     "outputs_hidden": false
    }
   },
   "outputs": [],
   "source": [
    "cmpd_uniq_counts[\"counts\"].min(), cmpd_uniq_counts[\"counts\"].argmin()"
   ]
  },
  {
   "cell_type": "code",
   "execution_count": null,
   "metadata": {
    "collapsed": false,
    "jupyter": {
     "outputs_hidden": false
    }
   },
   "outputs": [],
   "source": [
    "f, ax = subplots(figsize=(3.35,3), dpi=300)\n",
    "sns.distplot(cmpd_uniq_counts[\"counts\"], bins=range(0, 7000, 500), kde=False, ax=ax)\n",
    "ax.set_xlabel(\"Number of active ligands\")\n",
    "ax.set_ylabel(\"Number of targets\")\n",
    "\n",
    "f.tight_layout()\n",
    "f.savefig(\"../figures/size_distribution.pdf\")"
   ]
  },
  {
   "cell_type": "code",
   "execution_count": null,
   "metadata": {
    "collapsed": false,
    "jupyter": {
     "outputs_hidden": false
    }
   },
   "outputs": [],
   "source": [
    "for f in [np.min, np.mean, np.max, np.std]:\n",
    "    print f.__name__, f(cmpd_uniq_counts[\"counts\"])"
   ]
  },
  {
   "cell_type": "code",
   "execution_count": null,
   "metadata": {
    "collapsed": false,
    "jupyter": {
     "outputs_hidden": false
    }
   },
   "outputs": [],
   "source": [
    "q = [5, 25,50,75, 95]\n",
    "print \"5th, 25th, 50th, 75th, and 95th percentiles:\", np.percentile(cmpd_uniq_counts[\"counts\"], q)"
   ]
  },
  {
   "cell_type": "code",
   "execution_count": null,
   "metadata": {
    "collapsed": false,
    "jupyter": {
     "outputs_hidden": false
    }
   },
   "outputs": [],
   "source": [
    "with_smiles.to_csv(\"../data/cleaned_data_smiles.csv\")"
   ]
  },
  {
   "cell_type": "code",
   "execution_count": null,
   "metadata": {
    "collapsed": false,
    "jupyter": {
     "outputs_hidden": false
    }
   },
   "outputs": [],
   "source": [
    "with_smiles.head()"
   ]
  },
  {
   "cell_type": "code",
   "execution_count": null,
   "metadata": {
    "collapsed": false,
    "jupyter": {
     "outputs_hidden": false
    }
   },
   "outputs": [],
   "source": [
    "for i in names:\n",
    "    print i\n",
    "    tmp = with_smiles[with_smiles[\"name\"] == i][[\"SMILES\", \"ingredient_cmpd_chemblid\"]].drop_duplicates()\n",
    "    tmp.to_csv(\"../data/smi_files/\"+i+\".ism\", sep=\"\\t\", header=False, index=False)"
   ]
  }
 ],
 "metadata": {
  "kernelspec": {
   "display_name": "Python 3 (ipykernel)",
   "language": "python",
   "name": "python3"
  },
  "language_info": {
   "codemirror_mode": {
    "name": "ipython",
    "version": 3
   },
   "file_extension": ".py",
   "mimetype": "text/x-python",
   "name": "python",
   "nbconvert_exporter": "python",
   "pygments_lexer": "ipython3",
   "version": "3.7.12"
  }
 },
 "nbformat": 4,
 "nbformat_minor": 4
}
