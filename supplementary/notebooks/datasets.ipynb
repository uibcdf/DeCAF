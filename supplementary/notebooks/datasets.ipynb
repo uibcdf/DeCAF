{
 "cells": [
  {
   "cell_type": "code",
   "execution_count": 1,
   "id": "5d25980a-1904-47aa-a8e8-39b550500f1c",
   "metadata": {},
   "outputs": [],
   "source": [
    "import warnings\n",
    "warnings.filterwarnings('ignore')\n",
    "\n",
    "import pandas as pd\n",
    "import seaborn as sns\n",
    "from glob import glob\n",
    "import os.path\n",
    "from matplotlib.pyplot import subplots\n",
    "import numpy as np"
   ]
  },
  {
   "cell_type": "markdown",
   "id": "8f0989e4-1861-493d-83a4-5fba21219b35",
   "metadata": {},
   "source": [
    "# Retrieve activity data from ChEMBL"
   ]
  },
  {
   "cell_type": "code",
   "execution_count": 53,
   "id": "f3c21f7d-90c7-4513-9712-67f869bdb261",
   "metadata": {},
   "outputs": [
    {
     "name": "stdout",
     "output_type": "stream",
     "text": [
      "From\tTo\n",
      "P49892\tCHEMBL2114\n",
      "\n"
     ]
    }
   ],
   "source": [
    "import urllib.parse\n",
    "import urllib.request\n",
    "\n",
    "url = 'https://www.uniprot.org/uploadlists/'\n",
    "\n",
    "params = {\n",
    "'from': 'ACC+ID',\n",
    "'to': 'CHEMBL_ID',\n",
    "'format': 'tab',\n",
    "'query': 'P49892'\n",
    "}\n",
    "\n",
    "data = urllib.parse.urlencode(params)\n",
    "data = data.encode('utf-8')\n",
    "req = urllib.request.Request(url, data)\n",
    "with urllib.request.urlopen(req) as f:\n",
    "   response = f.read()\n",
    "print(response.decode('utf-8'))"
   ]
  },
  {
   "cell_type": "code",
   "execution_count": 54,
   "id": "b7a1bda2-d36f-42ff-926b-850e168abda9",
   "metadata": {},
   "outputs": [],
   "source": [
    "from chembl_webresource_client.new_client import new_client\n",
    "\n",
    "activity = new_client.activity"
   ]
  },
  {
   "cell_type": "code",
   "execution_count": 56,
   "id": "d531ac21-d2fb-4d46-8280-2363684e6e86",
   "metadata": {},
   "outputs": [],
   "source": [
    "activity_data = activity.filter(target_chembl_id='CHEMBL2114')"
   ]
  },
  {
   "cell_type": "code",
   "execution_count": 63,
   "id": "a82df8f7-e119-4bf6-84a1-61e86fa9e3df",
   "metadata": {},
   "outputs": [],
   "source": [
    "activity_data = activity.filter(target_components__accession='P49892')"
   ]
  },
  {
   "cell_type": "code",
   "execution_count": 64,
   "id": "4399bd70-8058-4273-982d-6db44784d0dc",
   "metadata": {},
   "outputs": [
    {
     "data": {
      "text/plain": [
       "18635916"
      ]
     },
     "execution_count": 64,
     "metadata": {},
     "output_type": "execute_result"
    }
   ],
   "source": [
    "len(activity_data)"
   ]
  },
  {
   "cell_type": "code",
   "execution_count": 60,
   "id": "be126b5e-aab5-4a2d-b97e-a39c553d64c4",
   "metadata": {},
   "outputs": [
    {
     "data": {
      "text/plain": [
       "{'activity_comment': None,\n",
       " 'activity_id': 753534,\n",
       " 'activity_properties': [],\n",
       " 'assay_chembl_id': 'CHEMBL640604',\n",
       " 'assay_description': 'Displacement of [125I]ABA from adenosine A1 receptor of chick cerebellar membrane',\n",
       " 'assay_type': 'B',\n",
       " 'assay_variant_accession': None,\n",
       " 'assay_variant_mutation': None,\n",
       " 'bao_endpoint': 'BAO_0000190',\n",
       " 'bao_format': 'BAO_0000019',\n",
       " 'bao_label': 'assay format',\n",
       " 'canonical_smiles': 'OC[C@H]1OC(n2cnc3c(Nc4cccc(F)c4)ncnc32)[C@H](O)[C@@H]1O',\n",
       " 'data_validity_comment': None,\n",
       " 'data_validity_description': None,\n",
       " 'document_chembl_id': 'CHEMBL1123754',\n",
       " 'document_journal': 'J. Med. Chem.',\n",
       " 'document_year': 1987,\n",
       " 'ligand_efficiency': {'bei': '22.10',\n",
       "  'le': '0.42',\n",
       "  'lle': '7.67',\n",
       "  'sei': '6.36'},\n",
       " 'molecule_chembl_id': 'CHEMBL607777',\n",
       " 'molecule_pref_name': None,\n",
       " 'parent_molecule_chembl_id': 'CHEMBL607777',\n",
       " 'pchembl_value': '7.99',\n",
       " 'potential_duplicate': False,\n",
       " 'qudt_units': 'http://www.openphacts.org/units/Nanomolar',\n",
       " 'record_id': 345225,\n",
       " 'relation': '=',\n",
       " 'src_id': 1,\n",
       " 'standard_flag': True,\n",
       " 'standard_relation': '=',\n",
       " 'standard_text_value': None,\n",
       " 'standard_type': 'IC50',\n",
       " 'standard_units': 'nM',\n",
       " 'standard_upper_value': None,\n",
       " 'standard_value': '10.3',\n",
       " 'target_chembl_id': 'CHEMBL2114',\n",
       " 'target_organism': 'Gallus gallus',\n",
       " 'target_pref_name': 'Adenosine A1 receptor',\n",
       " 'target_tax_id': '9031',\n",
       " 'text_value': None,\n",
       " 'toid': None,\n",
       " 'type': 'IC50',\n",
       " 'units': 'nM',\n",
       " 'uo_units': 'UO_0000065',\n",
       " 'upper_value': None,\n",
       " 'value': '10.3'}"
      ]
     },
     "execution_count": 60,
     "metadata": {},
     "output_type": "execute_result"
    }
   ],
   "source": [
    "activity_data[0]"
   ]
  },
  {
   "cell_type": "code",
   "execution_count": 2,
   "id": "64b99035-c5c0-49d7-95bf-492dbd7c3d38",
   "metadata": {},
   "outputs": [
    {
     "name": "stdout",
     "output_type": "stream",
     "text": [
      "['activity', 'activity_supplementary_data_by_activity', 'assay', 'assay_class', 'atc_class', 'binding_site', 'biotherapeutic', 'cell_line', 'chembl_id_lookup', 'compound_record', 'compound_structural_alert', 'description', 'document', 'document_similarity', 'drug', 'drug_indication', 'drug_warning', 'go_slim', 'image', 'mechanism', 'metabolism', 'molecule', 'molecule_form', 'official', 'organism', 'protein_class', 'similarity', 'source', 'substructure', 'target', 'target_component', 'target_relation', 'tissue', 'xref_source']\n"
     ]
    }
   ],
   "source": [
    "from chembl_webresource_client.new_client import new_client\n",
    "\n",
    "available_resources = [resource for resource in dir(new_client) if not resource.startswith('_')]\n",
    "print(available_resources)"
   ]
  },
  {
   "cell_type": "code",
   "execution_count": null,
   "id": "57ac2a25-dbc3-4d19-a169-933d8f02b3c2",
   "metadata": {},
   "outputs": [],
   "source": [
    "assays.bioactivities('CHEMBL1217643')"
   ]
  },
  {
   "cell_type": "code",
   "execution_count": 3,
   "id": "18f97713-9b36-4c09-b945-3c0dcb4fd7d8",
   "metadata": {},
   "outputs": [],
   "source": [
    "target = new_client.target"
   ]
  },
  {
   "cell_type": "code",
   "execution_count": 29,
   "id": "ab717852-8913-4913-bc16-dca122904551",
   "metadata": {},
   "outputs": [],
   "source": [
    "target_data_0 = target.filter(target_chembl_id='CHEMBL2114')"
   ]
  },
  {
   "cell_type": "code",
   "execution_count": 30,
   "id": "eba881e3-ce04-4330-b118-6988b3bec4d2",
   "metadata": {},
   "outputs": [],
   "source": [
    "target_data_1 = target.filter(chembl_id='CHEMBL2114')"
   ]
  },
  {
   "cell_type": "code",
   "execution_count": 65,
   "id": "3d5001f7-4545-42b6-8058-2a0e91427897",
   "metadata": {},
   "outputs": [],
   "source": [
    "target_data_2 = target.filter(target_components__accession='P49892')"
   ]
  },
  {
   "cell_type": "code",
   "execution_count": 67,
   "id": "41d1d1f8-005f-4407-9a29-82e1f9624c40",
   "metadata": {},
   "outputs": [
    {
     "data": {
      "text/plain": [
       "'CHEMBL2114'"
      ]
     },
     "execution_count": 67,
     "metadata": {},
     "output_type": "execute_result"
    }
   ],
   "source": [
    "target_data_2[0]['target_chembl_id']"
   ]
  },
  {
   "cell_type": "code",
   "execution_count": 68,
   "id": "708d5771-4f49-4f90-af0c-ca774721f85a",
   "metadata": {},
   "outputs": [
    {
     "data": {
      "text/plain": [
       "1"
      ]
     },
     "execution_count": 68,
     "metadata": {},
     "output_type": "execute_result"
    }
   ],
   "source": [
    "len(target_data_2)"
   ]
  },
  {
   "cell_type": "code",
   "execution_count": 38,
   "id": "d71e1391-7a47-4a0f-921f-92590f6fc072",
   "metadata": {},
   "outputs": [
    {
     "data": {
      "text/plain": [
       "True"
      ]
     },
     "execution_count": 38,
     "metadata": {},
     "output_type": "execute_result"
    }
   ],
   "source": [
    "target_data_0[0] == target_data_1[0]"
   ]
  },
  {
   "cell_type": "code",
   "execution_count": 42,
   "id": "af334795-7ef5-424b-acaa-a21f21a0d654",
   "metadata": {},
   "outputs": [
    {
     "data": {
      "text/plain": [
       "True"
      ]
     },
     "execution_count": 42,
     "metadata": {},
     "output_type": "execute_result"
    }
   ],
   "source": [
    "target_data_0[0] == target_data_2[0]"
   ]
  },
  {
   "cell_type": "code",
   "execution_count": null,
   "id": "74af6066-6ddb-4bcb-bcb1-3deb7c7d114a",
   "metadata": {},
   "outputs": [],
   "source": [
    "molecule = new_client.molecule\n",
    "mols = molecule.filter(pref_name__iexact='aspirin')\n",
    "mols"
   ]
  },
  {
   "cell_type": "code",
   "execution_count": null,
   "id": "f065c6a9-3fed-40cc-968f-a69a4d6dfa0b",
   "metadata": {},
   "outputs": [],
   "source": [
    "import urllib\n",
    "import json\n",
    "import re"
   ]
  },
  {
   "cell_type": "code",
   "execution_count": null,
   "id": "da5dd962-7f05-4916-8580-d39015e660fa",
   "metadata": {},
   "outputs": [],
   "source": [
    "def get_ligands(accession):\n",
    "\n",
    "    data = []\n",
    "\n",
    "    target_data = json.loads(urllib.urlopen(\"https://www.ebi.ac.uk/chemblws/targets/uniprot/%s.json\" %\n",
    "                                             accession).read())\n",
    "    bioactivity_data = json.loads(urllib.urlopen(\"https://www.ebi.ac.uk/chemblws/targets/%s/bioactivities.json\" %\n",
    "                                                  target_data['target']['chemblId']).read())\n",
    "\n",
    "    for bioactivity in bioactivity_data['bioactivities']:\n",
    "        \n",
    "        if not is_number(bioactivity[\"value\"]):\n",
    "            continue\n",
    "\n",
    "        row = {}\n",
    "        \n",
    "        for key in [\"bioactivity_type\", \"operator\", \"value\", \"units\", \"target_chemblid\",\n",
    "                    \"ingredient_cmpd_chemblid\"]:\n",
    "            row[key] = bioactivity[key]\n",
    "        data.append(row)\n",
    "\n",
    "    return data"
   ]
  },
  {
   "cell_type": "code",
   "execution_count": null,
   "id": "34f2b2e3-a70c-474e-9080-a88bbc40899d",
   "metadata": {},
   "outputs": [],
   "source": [
    "get_ligands('P49892')"
   ]
  },
  {
   "cell_type": "code",
   "execution_count": null,
   "id": "96361f0d-b533-428f-830c-87ec0c14761e",
   "metadata": {},
   "outputs": [],
   "source": [
    "names = []\n",
    "\n",
    "all_data = pd.DataFrame(columns=[\"name\", \"uniprot_name\", \"target_chemblid\", \"bioactivity_type\",\n",
    "                                 \"operator\", \"value\", \"units\", \"ingredient_cmpd_chemblid\"])\n",
    "\n",
    "for i in glob(\"../data/targets/*\"):\n",
    "    name = i.split(\"/\")[-1][:-4]\n",
    "    print(name)\n",
    "    names.append(name)\n",
    "    f = open(i)\n",
    "    for line in f:\n",
    "        tmp = line.split(\"\\t\")\n",
    "        accession = tmp[0]\n",
    "        uniprot_name = tmp[1]\n",
    "        try:\n",
    "            tmp_data = get_ligands(accession)\n",
    "            if tmp_data:\n",
    "                tmp_pd = pd.DataFrame(data=tmp_data, columns=[\"name\", \"uniprot_name\", \"target_chemblid\",\n",
    "                                                                  \"units\", \"bioactivity_type\", \"operator\",\n",
    "                                                                  \"value\", \"ingredient_cmpd_chemblid\"])\n",
    "                tmp_pd[\"name\"] = name\n",
    "                tmp_pd[\"uniprot_name\"] = uniprot_name\n",
    "\n",
    "                all_data = pd.concat([all_data, tmp_pd], ignore_index=True)\n",
    "        except:\n",
    "            continue\n",
    "\n",
    "    f.close()\n",
    "all_data.to_csv(\"../data/raw_data.csv\")"
   ]
  },
  {
   "cell_type": "code",
   "execution_count": null,
   "id": "bf206f44-4ad0-464c-bf87-40e466478f75",
   "metadata": {},
   "outputs": [],
   "source": [
    "all_data"
   ]
  },
  {
   "cell_type": "code",
   "execution_count": null,
   "id": "40565f9d-4c14-4247-b12a-f2e3574b667c",
   "metadata": {},
   "outputs": [],
   "source": []
  }
 ],
 "metadata": {
  "kernelspec": {
   "display_name": "Python 3 (ipykernel)",
   "language": "python",
   "name": "python3"
  },
  "language_info": {
   "codemirror_mode": {
    "name": "ipython",
    "version": 3
   },
   "file_extension": ".py",
   "mimetype": "text/x-python",
   "name": "python",
   "nbconvert_exporter": "python",
   "pygments_lexer": "ipython3",
   "version": "3.7.12"
  }
 },
 "nbformat": 4,
 "nbformat_minor": 5
}
