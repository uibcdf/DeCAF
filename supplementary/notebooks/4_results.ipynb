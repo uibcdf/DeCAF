{
 "cells": [
  {
   "cell_type": "code",
   "execution_count": 1,
   "metadata": {
    "collapsed": false
   },
   "outputs": [],
   "source": [
    "import warnings\n",
    "warnings.filterwarnings('ignore')\n",
    "\n",
    "import pandas as pd\n",
    "import matplotlib.pyplot as plt\n",
    "import numpy as np\n",
    "import seaborn as sns\n",
    "import math\n",
    "\n",
    "from ast import literal_eval\n",
    "from glob import glob\n",
    "\n",
    "%matplotlib inline"
   ]
  },
  {
   "cell_type": "code",
   "execution_count": 2,
   "metadata": {
    "collapsed": false
   },
   "outputs": [],
   "source": [
    "cutoffs = [a/10.0 for a in xrange(1,10)]\n",
    "colnames = [\"score\"+str(c) for c in cutoffs]\n",
    "cnum = len(cutoffs)"
   ]
  },
  {
   "cell_type": "code",
   "execution_count": 3,
   "metadata": {
    "collapsed": false
   },
   "outputs": [],
   "source": [
    "def score(dataset, cutoffs):\n",
    "    cols = [col for col in dataset.columns if (col not in [\"name\", \"label\"] and \"score\" not in col)]\n",
    "    for c in cutoffs:\n",
    "        name = \"score\"+str(c)\n",
    "        dataset[name] = dataset[dataset[cols] >= c][cols].fillna(0).sum(axis=1)"
   ]
  },
  {
   "cell_type": "code",
   "execution_count": 4,
   "metadata": {
    "collapsed": false
   },
   "outputs": [],
   "source": [
    "def raw_mean(x, a):\n",
    "    return a*x\n",
    "\n",
    "def raw_std(x, a, b):\n",
    "    return a*(x**b)"
   ]
  },
  {
   "cell_type": "code",
   "execution_count": 5,
   "metadata": {
    "collapsed": true
   },
   "outputs": [],
   "source": [
    "method=\"DeCAF\"\n",
    "#method = \"FP2\"\n",
    "#method = \"FP3\"\n",
    "#method = \"FP4\"\n",
    "#method = \"MACCS\""
   ]
  },
  {
   "cell_type": "code",
   "execution_count": 6,
   "metadata": {
    "collapsed": false
   },
   "outputs": [],
   "source": [
    "with open((\"../data/statistical_model/\" + method + \".params\")) as f:\n",
    "    params = literal_eval(f.read())"
   ]
  },
  {
   "cell_type": "code",
   "execution_count": 7,
   "metadata": {
    "collapsed": false
   },
   "outputs": [
    {
     "data": {
      "text/plain": [
       "{0.1: {'mean': [0.3035065020795763],\n",
       "  'std': [0.05021450233503376, 0.9996262098949061]},\n",
       " 0.2: {'mean': [0.27977805401292777],\n",
       "  'std': [0.07429864261164147, 1.000029193808274]},\n",
       " 0.3: {'mean': [0.18959352107040828],\n",
       "  'std': [0.08297258853122572, 0.9996615040429673]},\n",
       " 0.4: {'mean': [0.0794863100388481],\n",
       "  'std': [0.04929852337543983, 0.9978054135368709]},\n",
       " 0.5: {'mean': [0.02105655079117011],\n",
       "  'std': [0.019161502541326852, 0.9937496437888661]},\n",
       " 0.6: {'mean': [0.004183514421797652],\n",
       "  'std': [0.006615684287016445, 0.9826808055191903]},\n",
       " 0.7: {'mean': [0.0007247293571456762],\n",
       "  'std': [0.0020309056566072486, 0.9593770531220707]},\n",
       " 0.8: {'mean': [0.00012597756061023655],\n",
       "  'std': [0.0012474506946934694, 0.838067547723973]},\n",
       " 0.9: {'mean': [1.5209147355417976e-05],\n",
       "  'std': [0.0008888983916846435, 0.6691710584562793]}}"
      ]
     },
     "execution_count": 7,
     "metadata": {},
     "output_type": "execute_result"
    }
   ],
   "source": [
    "params"
   ]
  },
  {
   "cell_type": "code",
   "execution_count": 8,
   "metadata": {
    "collapsed": false
   },
   "outputs": [],
   "source": [
    "def normalize(row):\n",
    "    cutoff = row[\"cutoff\"]\n",
    "    size = row[\"size\"]\n",
    "    score = row[\"score\"]\n",
    "    z_score = ((row[\"score\"] - raw_mean(size, *params[cutoff][\"mean\"])) /\n",
    "               raw_std(size, *params[cutoff][\"std\"]))\n",
    "    return z_score"
   ]
  },
  {
   "cell_type": "code",
   "execution_count": 9,
   "metadata": {
    "collapsed": true
   },
   "outputs": [],
   "source": [
    "def pvalue(z):\n",
    "    z = np.array(z)\n",
    "    x = -np.exp(-z * math.pi / math.sqrt(6) - 0.5772156649)\n",
    "    idx = np.where(z < 28)[0]\n",
    "    res = np.empty_like(z)\n",
    "    res = -(x + (x**2)/2.0 + (x**3)/6.0)\n",
    "    res[idx] = 1.0 - np.exp(x[idx])\n",
    "    return res"
   ]
  },
  {
   "cell_type": "markdown",
   "metadata": {},
   "source": [
    "# Data"
   ]
  },
  {
   "cell_type": "code",
   "execution_count": 10,
   "metadata": {
    "collapsed": false
   },
   "outputs": [],
   "source": [
    "targets = []\n",
    "datasets = {}"
   ]
  },
  {
   "cell_type": "code",
   "execution_count": 11,
   "metadata": {
    "collapsed": false
   },
   "outputs": [],
   "source": [
    "for i in glob(\"../data/results/\"+method+\"/*tab.bz2\"):\n",
    "    name = i.split('/')[-1].split('.')[0]\n",
    "    targets.append(name)\n",
    "    datasets[name] = pd.read_table(i)"
   ]
  },
  {
   "cell_type": "code",
   "execution_count": 12,
   "metadata": {
    "collapsed": false
   },
   "outputs": [
    {
     "data": {
      "text/plain": [
       "73"
      ]
     },
     "execution_count": 12,
     "metadata": {},
     "output_type": "execute_result"
    }
   ],
   "source": [
    "len(targets)"
   ]
  },
  {
   "cell_type": "code",
   "execution_count": 13,
   "metadata": {
    "collapsed": false
   },
   "outputs": [
    {
     "name": "stdout",
     "output_type": "stream",
     "text": [
      "['SCN5A', 'CHRM3', 'CRHR1', 'HTR2A', 'CRHR2', 'ESR1', 'PGR', 'MC3R', 'ADORA3', 'SLC6A2', 'TBXA2R', 'BDKRB2', 'AR', 'CCKBR', 'GRIN3A', 'HTR1A', 'PDE3A', 'CACNA1C', 'AGTR1', 'DRD2', 'EDNRB', 'PDE4D', 'ADORA2A', 'BDKRB1', 'DRD4', 'GPR109A', 'ADRA1A', 'ADRB2', 'EDNRA', 'HTR2B', 'DRD3', 'PTGS2', 'HRH3', 'ADRB1', 'HRH2', 'OPRK1', 'HTR2C', 'ADRA2A', 'SLC6A4', 'CACNA1B', 'HRH1', 'MC4R', 'HTR3A', 'AVPR1A', 'CHRM1', 'OPRM1', 'ADRA2C', 'ESR2', 'ADRB3', 'PTGS1', 'NPY2R', 'SLC6A3', 'ADORA1', 'CNR1', 'DRD1', 'CHRNA10', 'MLN', 'CHRM2', 'NR1I2', 'SLC29A1', 'AVPR2', 'NTSR1', 'NR3C1', 'MAOA', 'TACR1', 'GABRA1', 'OPRD1', 'CCKAR', 'KCNH2', 'GIPR', 'ADRA2B', 'GHSR', 'NPY1R']\n"
     ]
    }
   ],
   "source": [
    "print targets"
   ]
  },
  {
   "cell_type": "code",
   "execution_count": 14,
   "metadata": {
    "collapsed": false
   },
   "outputs": [
    {
     "data": {
      "text/html": [
       "<div>\n",
       "<table border=\"1\" class=\"dataframe\">\n",
       "  <thead>\n",
       "    <tr style=\"text-align: right;\">\n",
       "      <th></th>\n",
       "      <th>drug</th>\n",
       "      <th>target</th>\n",
       "      <th>pred</th>\n",
       "    </tr>\n",
       "  </thead>\n",
       "  <tbody>\n",
       "    <tr>\n",
       "      <th>5</th>\n",
       "      <td>Acebutolol</td>\n",
       "      <td>ADRB2</td>\n",
       "      <td>old</td>\n",
       "    </tr>\n",
       "    <tr>\n",
       "      <th>6</th>\n",
       "      <td>Acebutolol</td>\n",
       "      <td>ADRB1</td>\n",
       "      <td>old</td>\n",
       "    </tr>\n",
       "    <tr>\n",
       "      <th>9</th>\n",
       "      <td>Acetaminophen</td>\n",
       "      <td>PTGS1</td>\n",
       "      <td>old</td>\n",
       "    </tr>\n",
       "    <tr>\n",
       "      <th>17</th>\n",
       "      <td>Acetaminophen</td>\n",
       "      <td>PTGS2</td>\n",
       "      <td>old</td>\n",
       "    </tr>\n",
       "    <tr>\n",
       "      <th>40</th>\n",
       "      <td>Acetophenazine</td>\n",
       "      <td>DRD1</td>\n",
       "      <td>old</td>\n",
       "    </tr>\n",
       "  </tbody>\n",
       "</table>\n",
       "</div>"
      ],
      "text/plain": [
       "              drug target pred\n",
       "5       Acebutolol  ADRB2  old\n",
       "6       Acebutolol  ADRB1  old\n",
       "9    Acetaminophen  PTGS1  old\n",
       "17   Acetaminophen  PTGS2  old\n",
       "40  Acetophenazine   DRD1  old"
      ]
     },
     "execution_count": 14,
     "metadata": {},
     "output_type": "execute_result"
    }
   ],
   "source": [
    "drug_targets = pd.read_csv(\"../data/drug_targets.csv\", index_col=0)\n",
    "drug_targets.head()"
   ]
  },
  {
   "cell_type": "code",
   "execution_count": 15,
   "metadata": {
    "collapsed": false
   },
   "outputs": [
    {
     "data": {
      "text/plain": [
       "150"
      ]
     },
     "execution_count": 15,
     "metadata": {},
     "output_type": "execute_result"
    }
   ],
   "source": [
    "np.sum(drug_targets[\"pred\"] == \"new\")"
   ]
  },
  {
   "cell_type": "code",
   "execution_count": 16,
   "metadata": {
    "collapsed": false
   },
   "outputs": [
    {
     "data": {
      "text/plain": [
       "1079"
      ]
     },
     "execution_count": 16,
     "metadata": {},
     "output_type": "execute_result"
    }
   ],
   "source": [
    "np.sum(drug_targets[\"pred\"] == \"old\")"
   ]
  },
  {
   "cell_type": "code",
   "execution_count": 17,
   "metadata": {
    "collapsed": false
   },
   "outputs": [
    {
     "data": {
      "text/plain": [
       "82"
      ]
     },
     "execution_count": 17,
     "metadata": {},
     "output_type": "execute_result"
    }
   ],
   "source": [
    "np.sum(drug_targets[\"pred\"] == \"drugbank\")"
   ]
  },
  {
   "cell_type": "code",
   "execution_count": 18,
   "metadata": {
    "collapsed": false
   },
   "outputs": [],
   "source": [
    "trivial = pd.read_csv(\"../data/trivial_hits.csv\", index_col=0)\n",
    "chemb_low_activity = pd.read_csv(\"../data/chembl_low_activity_hits.csv\", index_col=0)"
   ]
  },
  {
   "cell_type": "markdown",
   "metadata": {},
   "source": [
    "# Results"
   ]
  },
  {
   "cell_type": "markdown",
   "metadata": {},
   "source": [
    "## Raw scores"
   ]
  },
  {
   "cell_type": "code",
   "execution_count": 19,
   "metadata": {
    "collapsed": false
   },
   "outputs": [],
   "source": [
    "all_data = pd.DataFrame(columns=[\"target\", \"drug\", \"cutoff\", \"score\", \"size\"])"
   ]
  },
  {
   "cell_type": "code",
   "execution_count": 20,
   "metadata": {
    "collapsed": false
   },
   "outputs": [
    {
     "data": {
      "text/plain": [
       "([0.1, 0.2, 0.3, 0.4, 0.5, 0.6, 0.7, 0.8, 0.9], 9, 'DeCAF', 73)"
      ]
     },
     "execution_count": 20,
     "metadata": {},
     "output_type": "execute_result"
    }
   ],
   "source": [
    "cutoffs, cnum, method, len(targets)"
   ]
  },
  {
   "cell_type": "code",
   "execution_count": 21,
   "metadata": {
    "collapsed": false
   },
   "outputs": [
    {
     "name": "stdout",
     "output_type": "stream",
     "text": [
      "SCN5A\n",
      "CHRM3\n",
      "CRHR1\n",
      "HTR2A\n",
      "CRHR2\n",
      "ESR1\n",
      "PGR\n",
      "MC3R\n",
      "ADORA3\n",
      "SLC6A2\n",
      "TBXA2R\n",
      "BDKRB2\n",
      "AR\n",
      "CCKBR\n",
      "GRIN3A\n",
      "HTR1A\n",
      "PDE3A\n",
      "CACNA1C\n",
      "AGTR1\n",
      "DRD2\n",
      "EDNRB\n",
      "PDE4D\n",
      "ADORA2A\n",
      "BDKRB1\n",
      "DRD4\n",
      "GPR109A\n",
      "ADRA1A\n",
      "ADRB2\n",
      "EDNRA\n",
      "HTR2B\n",
      "DRD3\n",
      "PTGS2\n",
      "HRH3\n",
      "ADRB1\n",
      "HRH2\n",
      "OPRK1\n",
      "HTR2C\n",
      "ADRA2A\n",
      "SLC6A4\n",
      "CACNA1B\n",
      "HRH1\n",
      "MC4R\n",
      "HTR3A\n",
      "AVPR1A\n",
      "CHRM1\n",
      "OPRM1\n",
      "ADRA2C\n",
      "ESR2\n",
      "ADRB3\n",
      "PTGS1\n",
      "NPY2R\n",
      "SLC6A3\n",
      "ADORA1\n",
      "CNR1\n",
      "DRD1\n",
      "CHRNA10\n",
      "MLN\n",
      "CHRM2\n",
      "NR1I2\n",
      "SLC29A1\n",
      "AVPR2\n",
      "NTSR1\n",
      "NR3C1\n",
      "MAOA\n",
      "TACR1\n",
      "GABRA1\n",
      "OPRD1\n",
      "CCKAR\n",
      "KCNH2\n",
      "GIPR\n",
      "ADRA2B\n",
      "GHSR\n",
      "NPY1R\n"
     ]
    }
   ],
   "source": [
    "for t in targets:\n",
    "    print t\n",
    "    score(datasets[t], cutoffs)\n",
    "    size = datasets[t].shape[1] - cnum - 1\n",
    "    for i in xrange(cnum):\n",
    "        col = colnames[i]\n",
    "        cutoff = cutoffs[i]\n",
    "        tmp = datasets[t][[\"name\", col]]\n",
    "        tmp.columns = [\"drug\", \"score\"]\n",
    "        tmp[\"target\"] = t\n",
    "        tmp[\"cutoff\"] = cutoff\n",
    "        tmp[\"size\"] = datasets[t].shape[1] - cnum - 1\n",
    "        all_data = pd.concat([all_data, tmp])"
   ]
  },
  {
   "cell_type": "code",
   "execution_count": 22,
   "metadata": {
    "collapsed": false
   },
   "outputs": [
    {
     "name": "stdout",
     "output_type": "stream",
     "text": [
      "(430992, 5)\n"
     ]
    },
    {
     "data": {
      "text/html": [
       "<div>\n",
       "<table border=\"1\" class=\"dataframe\">\n",
       "  <thead>\n",
       "    <tr style=\"text-align: right;\">\n",
       "      <th></th>\n",
       "      <th>cutoff</th>\n",
       "      <th>drug</th>\n",
       "      <th>score</th>\n",
       "      <th>size</th>\n",
       "      <th>target</th>\n",
       "    </tr>\n",
       "  </thead>\n",
       "  <tbody>\n",
       "    <tr>\n",
       "      <th>0</th>\n",
       "      <td>0.1</td>\n",
       "      <td>Acarbose</td>\n",
       "      <td>22.233594</td>\n",
       "      <td>61.0</td>\n",
       "      <td>SCN5A</td>\n",
       "    </tr>\n",
       "    <tr>\n",
       "      <th>1</th>\n",
       "      <td>0.1</td>\n",
       "      <td>Acebutolol</td>\n",
       "      <td>20.908136</td>\n",
       "      <td>61.0</td>\n",
       "      <td>SCN5A</td>\n",
       "    </tr>\n",
       "    <tr>\n",
       "      <th>2</th>\n",
       "      <td>0.1</td>\n",
       "      <td>Aceclofenac</td>\n",
       "      <td>25.837062</td>\n",
       "      <td>61.0</td>\n",
       "      <td>SCN5A</td>\n",
       "    </tr>\n",
       "    <tr>\n",
       "      <th>3</th>\n",
       "      <td>0.1</td>\n",
       "      <td>Acenocoumarol</td>\n",
       "      <td>22.027414</td>\n",
       "      <td>61.0</td>\n",
       "      <td>SCN5A</td>\n",
       "    </tr>\n",
       "    <tr>\n",
       "      <th>4</th>\n",
       "      <td>0.1</td>\n",
       "      <td>Acetaminophen</td>\n",
       "      <td>22.983463</td>\n",
       "      <td>61.0</td>\n",
       "      <td>SCN5A</td>\n",
       "    </tr>\n",
       "  </tbody>\n",
       "</table>\n",
       "</div>"
      ],
      "text/plain": [
       "   cutoff           drug      score  size target\n",
       "0     0.1       Acarbose  22.233594  61.0  SCN5A\n",
       "1     0.1     Acebutolol  20.908136  61.0  SCN5A\n",
       "2     0.1    Aceclofenac  25.837062  61.0  SCN5A\n",
       "3     0.1  Acenocoumarol  22.027414  61.0  SCN5A\n",
       "4     0.1  Acetaminophen  22.983463  61.0  SCN5A"
      ]
     },
     "execution_count": 22,
     "metadata": {},
     "output_type": "execute_result"
    }
   ],
   "source": [
    "print all_data.shape\n",
    "all_data.head()"
   ]
  },
  {
   "cell_type": "markdown",
   "metadata": {},
   "source": [
    "## Z-scores, p-values, e-values"
   ]
  },
  {
   "cell_type": "code",
   "execution_count": 23,
   "metadata": {
    "collapsed": false
   },
   "outputs": [
    {
     "data": {
      "text/html": [
       "<div>\n",
       "<table border=\"1\" class=\"dataframe\">\n",
       "  <thead>\n",
       "    <tr style=\"text-align: right;\">\n",
       "      <th></th>\n",
       "      <th>cutoff</th>\n",
       "      <th>drug</th>\n",
       "      <th>score</th>\n",
       "      <th>size</th>\n",
       "      <th>target</th>\n",
       "      <th>z_score</th>\n",
       "    </tr>\n",
       "  </thead>\n",
       "  <tbody>\n",
       "    <tr>\n",
       "      <th>0</th>\n",
       "      <td>0.1</td>\n",
       "      <td>Acarbose</td>\n",
       "      <td>22.233594</td>\n",
       "      <td>61.0</td>\n",
       "      <td>SCN5A</td>\n",
       "      <td>1.216231</td>\n",
       "    </tr>\n",
       "    <tr>\n",
       "      <th>1</th>\n",
       "      <td>0.1</td>\n",
       "      <td>Acebutolol</td>\n",
       "      <td>20.908136</td>\n",
       "      <td>61.0</td>\n",
       "      <td>SCN5A</td>\n",
       "      <td>0.782845</td>\n",
       "    </tr>\n",
       "    <tr>\n",
       "      <th>2</th>\n",
       "      <td>0.1</td>\n",
       "      <td>Aceclofenac</td>\n",
       "      <td>25.837062</td>\n",
       "      <td>61.0</td>\n",
       "      <td>SCN5A</td>\n",
       "      <td>2.394458</td>\n",
       "    </tr>\n",
       "    <tr>\n",
       "      <th>3</th>\n",
       "      <td>0.1</td>\n",
       "      <td>Acenocoumarol</td>\n",
       "      <td>22.027414</td>\n",
       "      <td>61.0</td>\n",
       "      <td>SCN5A</td>\n",
       "      <td>1.148816</td>\n",
       "    </tr>\n",
       "    <tr>\n",
       "      <th>4</th>\n",
       "      <td>0.1</td>\n",
       "      <td>Acetaminophen</td>\n",
       "      <td>22.983463</td>\n",
       "      <td>61.0</td>\n",
       "      <td>SCN5A</td>\n",
       "      <td>1.461416</td>\n",
       "    </tr>\n",
       "  </tbody>\n",
       "</table>\n",
       "</div>"
      ],
      "text/plain": [
       "   cutoff           drug      score  size target   z_score\n",
       "0     0.1       Acarbose  22.233594  61.0  SCN5A  1.216231\n",
       "1     0.1     Acebutolol  20.908136  61.0  SCN5A  0.782845\n",
       "2     0.1    Aceclofenac  25.837062  61.0  SCN5A  2.394458\n",
       "3     0.1  Acenocoumarol  22.027414  61.0  SCN5A  1.148816\n",
       "4     0.1  Acetaminophen  22.983463  61.0  SCN5A  1.461416"
      ]
     },
     "execution_count": 23,
     "metadata": {},
     "output_type": "execute_result"
    }
   ],
   "source": [
    "all_data[\"z_score\"] = all_data.apply(normalize, axis=1)\n",
    "all_data.head()"
   ]
  },
  {
   "cell_type": "code",
   "execution_count": 24,
   "metadata": {
    "collapsed": false
   },
   "outputs": [
    {
     "data": {
      "image/png": "[encoded data removed]",
      "text/plain": [
       "<matplotlib.figure.Figure at 0x7fb84d20e950>"
      ]
     },
     "metadata": {},
     "output_type": "display_data"
    }
   ],
   "source": [
    "grid_z = sns.FacetGrid(all_data, col=\"cutoff\", size=5, col_wrap=3, sharex=False, sharey=False, legend_out=True)\n",
    "grid_z = (grid_z.map(sns.boxplot, \"z_score\").add_legend())\n",
    "grid_z;"
   ]
  },
  {
   "cell_type": "code",
   "execution_count": 25,
   "metadata": {
    "collapsed": false
   },
   "outputs": [
    {
     "data": {
      "text/html": [
       "<div>\n",
       "<table border=\"1\" class=\"dataframe\">\n",
       "  <thead>\n",
       "    <tr style=\"text-align: right;\">\n",
       "      <th></th>\n",
       "      <th>cutoff</th>\n",
       "      <th>drug</th>\n",
       "      <th>score</th>\n",
       "      <th>size</th>\n",
       "      <th>target</th>\n",
       "      <th>z_score</th>\n",
       "      <th>p_value</th>\n",
       "    </tr>\n",
       "  </thead>\n",
       "  <tbody>\n",
       "    <tr>\n",
       "      <th>0</th>\n",
       "      <td>0.1</td>\n",
       "      <td>Acarbose</td>\n",
       "      <td>22.233594</td>\n",
       "      <td>61.0</td>\n",
       "      <td>SCN5A</td>\n",
       "      <td>1.216231</td>\n",
       "      <td>0.111302</td>\n",
       "    </tr>\n",
       "    <tr>\n",
       "      <th>1</th>\n",
       "      <td>0.1</td>\n",
       "      <td>Acebutolol</td>\n",
       "      <td>20.908136</td>\n",
       "      <td>61.0</td>\n",
       "      <td>SCN5A</td>\n",
       "      <td>0.782845</td>\n",
       "      <td>0.185937</td>\n",
       "    </tr>\n",
       "    <tr>\n",
       "      <th>2</th>\n",
       "      <td>0.1</td>\n",
       "      <td>Aceclofenac</td>\n",
       "      <td>25.837062</td>\n",
       "      <td>61.0</td>\n",
       "      <td>SCN5A</td>\n",
       "      <td>2.394458</td>\n",
       "      <td>0.025701</td>\n",
       "    </tr>\n",
       "    <tr>\n",
       "      <th>3</th>\n",
       "      <td>0.1</td>\n",
       "      <td>Acenocoumarol</td>\n",
       "      <td>22.027414</td>\n",
       "      <td>61.0</td>\n",
       "      <td>SCN5A</td>\n",
       "      <td>1.148816</td>\n",
       "      <td>0.120722</td>\n",
       "    </tr>\n",
       "    <tr>\n",
       "      <th>4</th>\n",
       "      <td>0.1</td>\n",
       "      <td>Acetaminophen</td>\n",
       "      <td>22.983463</td>\n",
       "      <td>61.0</td>\n",
       "      <td>SCN5A</td>\n",
       "      <td>1.461416</td>\n",
       "      <td>0.082552</td>\n",
       "    </tr>\n",
       "  </tbody>\n",
       "</table>\n",
       "</div>"
      ],
      "text/plain": [
       "   cutoff           drug      score  size target   z_score   p_value\n",
       "0     0.1       Acarbose  22.233594  61.0  SCN5A  1.216231  0.111302\n",
       "1     0.1     Acebutolol  20.908136  61.0  SCN5A  0.782845  0.185937\n",
       "2     0.1    Aceclofenac  25.837062  61.0  SCN5A  2.394458  0.025701\n",
       "3     0.1  Acenocoumarol  22.027414  61.0  SCN5A  1.148816  0.120722\n",
       "4     0.1  Acetaminophen  22.983463  61.0  SCN5A  1.461416  0.082552"
      ]
     },
     "execution_count": 25,
     "metadata": {},
     "output_type": "execute_result"
    }
   ],
   "source": [
    "all_data[\"p_value\"] = pvalue(all_data[\"z_score\"])\n",
    "all_data.head()"
   ]
  },
  {
   "cell_type": "code",
   "execution_count": 26,
   "metadata": {
    "collapsed": false
   },
   "outputs": [
    {
     "data": {
      "text/plain": [
       "47888"
      ]
     },
     "execution_count": 26,
     "metadata": {},
     "output_type": "execute_result"
    }
   ],
   "source": [
    "N = 73 * 656\n",
    "N"
   ]
  },
  {
   "cell_type": "code",
   "execution_count": 27,
   "metadata": {
    "collapsed": false
   },
   "outputs": [
    {
     "data": {
      "text/html": [
       "<div>\n",
       "<table border=\"1\" class=\"dataframe\">\n",
       "  <thead>\n",
       "    <tr style=\"text-align: right;\">\n",
       "      <th></th>\n",
       "      <th>cutoff</th>\n",
       "      <th>drug</th>\n",
       "      <th>score</th>\n",
       "      <th>size</th>\n",
       "      <th>target</th>\n",
       "      <th>z_score</th>\n",
       "      <th>p_value</th>\n",
       "      <th>e_value</th>\n",
       "    </tr>\n",
       "  </thead>\n",
       "  <tbody>\n",
       "    <tr>\n",
       "      <th>0</th>\n",
       "      <td>0.1</td>\n",
       "      <td>Acarbose</td>\n",
       "      <td>22.233594</td>\n",
       "      <td>61.0</td>\n",
       "      <td>SCN5A</td>\n",
       "      <td>1.216231</td>\n",
       "      <td>0.111302</td>\n",
       "      <td>5330.016529</td>\n",
       "    </tr>\n",
       "    <tr>\n",
       "      <th>1</th>\n",
       "      <td>0.1</td>\n",
       "      <td>Acebutolol</td>\n",
       "      <td>20.908136</td>\n",
       "      <td>61.0</td>\n",
       "      <td>SCN5A</td>\n",
       "      <td>0.782845</td>\n",
       "      <td>0.185937</td>\n",
       "      <td>8904.133727</td>\n",
       "    </tr>\n",
       "    <tr>\n",
       "      <th>2</th>\n",
       "      <td>0.1</td>\n",
       "      <td>Aceclofenac</td>\n",
       "      <td>25.837062</td>\n",
       "      <td>61.0</td>\n",
       "      <td>SCN5A</td>\n",
       "      <td>2.394458</td>\n",
       "      <td>0.025701</td>\n",
       "      <td>1230.779022</td>\n",
       "    </tr>\n",
       "    <tr>\n",
       "      <th>3</th>\n",
       "      <td>0.1</td>\n",
       "      <td>Acenocoumarol</td>\n",
       "      <td>22.027414</td>\n",
       "      <td>61.0</td>\n",
       "      <td>SCN5A</td>\n",
       "      <td>1.148816</td>\n",
       "      <td>0.120722</td>\n",
       "      <td>5781.125067</td>\n",
       "    </tr>\n",
       "    <tr>\n",
       "      <th>4</th>\n",
       "      <td>0.1</td>\n",
       "      <td>Acetaminophen</td>\n",
       "      <td>22.983463</td>\n",
       "      <td>61.0</td>\n",
       "      <td>SCN5A</td>\n",
       "      <td>1.461416</td>\n",
       "      <td>0.082552</td>\n",
       "      <td>3953.259373</td>\n",
       "    </tr>\n",
       "  </tbody>\n",
       "</table>\n",
       "</div>"
      ],
      "text/plain": [
       "   cutoff           drug      score  size target   z_score   p_value  \\\n",
       "0     0.1       Acarbose  22.233594  61.0  SCN5A  1.216231  0.111302   \n",
       "1     0.1     Acebutolol  20.908136  61.0  SCN5A  0.782845  0.185937   \n",
       "2     0.1    Aceclofenac  25.837062  61.0  SCN5A  2.394458  0.025701   \n",
       "3     0.1  Acenocoumarol  22.027414  61.0  SCN5A  1.148816  0.120722   \n",
       "4     0.1  Acetaminophen  22.983463  61.0  SCN5A  1.461416  0.082552   \n",
       "\n",
       "       e_value  \n",
       "0  5330.016529  \n",
       "1  8904.133727  \n",
       "2  1230.779022  \n",
       "3  5781.125067  \n",
       "4  3953.259373  "
      ]
     },
     "execution_count": 27,
     "metadata": {},
     "output_type": "execute_result"
    }
   ],
   "source": [
    "all_data[\"e_value\"] = all_data[\"p_value\"] * N\n",
    "all_data.head()"
   ]
  },
  {
   "cell_type": "code",
   "execution_count": 28,
   "metadata": {
    "collapsed": false
   },
   "outputs": [],
   "source": [
    "all_data.to_csv(\"../data/results/\"+method+\"_all_results.csv\")"
   ]
  },
  {
   "cell_type": "markdown",
   "metadata": {},
   "source": [
    "## Summary"
   ]
  },
  {
   "cell_type": "code",
   "execution_count": 29,
   "metadata": {
    "collapsed": false
   },
   "outputs": [
    {
     "data": {
      "text/plain": [
       "array([-10,  -9,  -8,  -7,  -6,  -5,  -4,  -3,  -2,  -1,   0])"
      ]
     },
     "execution_count": 29,
     "metadata": {},
     "output_type": "execute_result"
    }
   ],
   "source": [
    "e_range = np.arange(-10, 1)\n",
    "e_range"
   ]
  },
  {
   "cell_type": "code",
   "execution_count": 30,
   "metadata": {
    "collapsed": false
   },
   "outputs": [],
   "source": [
    "predictions = {e: {t: set() for t in targets} for e in e_range}"
   ]
  },
  {
   "cell_type": "code",
   "execution_count": 31,
   "metadata": {
    "collapsed": false
   },
   "outputs": [],
   "source": [
    "for e in e_range:\n",
    "    pred = all_data[(all_data[\"e_value\"] <= 10**e)].groupby(\"target\")\n",
    "    for t, group in pred:\n",
    "        predictions[e][t] = predictions[e][t] | set(list(group[\"drug\"]))"
   ]
  },
  {
   "cell_type": "code",
   "execution_count": 32,
   "metadata": {
    "collapsed": false
   },
   "outputs": [],
   "source": [
    "low_act = {}\n",
    "for t in targets:\n",
    "    low_act[t] = set(list(chemb_low_activity[(chemb_low_activity[\"target\"] == t)][\"drug\"].unique()))"
   ]
  },
  {
   "cell_type": "code",
   "execution_count": 33,
   "metadata": {
    "collapsed": false
   },
   "outputs": [],
   "source": [
    "triv = {}\n",
    "for t in targets:\n",
    "    triv[t] = set(list(trivial[(trivial[\"target\"] == t)][\"drug\"].unique()))"
   ]
  },
  {
   "cell_type": "code",
   "execution_count": 34,
   "metadata": {
    "collapsed": false
   },
   "outputs": [],
   "source": [
    "known = {}\n",
    "for t in targets:\n",
    "    known[t] = (set(list(drug_targets[(drug_targets[\"target\"] == t)][\"drug\"].unique())) | triv[t] | low_act[t])"
   ]
  },
  {
   "cell_type": "code",
   "execution_count": 35,
   "metadata": {
    "collapsed": false
   },
   "outputs": [],
   "source": [
    "summary = pd.DataFrame(columns=[\"e_value\", \"target\", \"pred\", \"true\", \"not trivial\", \"low activity\", \"false\",\n",
    "                                \"not found\"])"
   ]
  },
  {
   "cell_type": "code",
   "execution_count": 36,
   "metadata": {
    "collapsed": false
   },
   "outputs": [],
   "source": [
    "i = 0\n",
    "for e in e_range:\n",
    "    for t in targets:\n",
    "        pr = predictions[e][t]\n",
    "        tr = len(pr & known[t])\n",
    "        nt = len((pr & known[t]) - triv[t])\n",
    "        la = len(pr & low_act[t])\n",
    "        f = len(pr - known[t])\n",
    "        nf = len((known[t] - pr))        \n",
    "        summary.loc[i] = [10**e, t, len(pr), tr, nt, la, f, nf]\n",
    "        i += 1"
   ]
  },
  {
   "cell_type": "code",
   "execution_count": 37,
   "metadata": {
    "collapsed": false
   },
   "outputs": [
    {
     "data": {
      "text/html": [
       "<div>\n",
       "<table border=\"1\" class=\"dataframe\">\n",
       "  <thead>\n",
       "    <tr style=\"text-align: right;\">\n",
       "      <th></th>\n",
       "      <th>e_value</th>\n",
       "      <th>target</th>\n",
       "      <th>pred</th>\n",
       "      <th>true</th>\n",
       "      <th>not trivial</th>\n",
       "      <th>low activity</th>\n",
       "      <th>false</th>\n",
       "      <th>not found</th>\n",
       "    </tr>\n",
       "  </thead>\n",
       "  <tbody>\n",
       "    <tr>\n",
       "      <th>0</th>\n",
       "      <td>1.000000e-10</td>\n",
       "      <td>SCN5A</td>\n",
       "      <td>1.0</td>\n",
       "      <td>1.0</td>\n",
       "      <td>0.0</td>\n",
       "      <td>0.0</td>\n",
       "      <td>0.0</td>\n",
       "      <td>19.0</td>\n",
       "    </tr>\n",
       "    <tr>\n",
       "      <th>1</th>\n",
       "      <td>1.000000e-10</td>\n",
       "      <td>CHRM3</td>\n",
       "      <td>17.0</td>\n",
       "      <td>14.0</td>\n",
       "      <td>4.0</td>\n",
       "      <td>0.0</td>\n",
       "      <td>3.0</td>\n",
       "      <td>43.0</td>\n",
       "    </tr>\n",
       "    <tr>\n",
       "      <th>2</th>\n",
       "      <td>1.000000e-10</td>\n",
       "      <td>CRHR1</td>\n",
       "      <td>0.0</td>\n",
       "      <td>0.0</td>\n",
       "      <td>0.0</td>\n",
       "      <td>0.0</td>\n",
       "      <td>0.0</td>\n",
       "      <td>0.0</td>\n",
       "    </tr>\n",
       "    <tr>\n",
       "      <th>3</th>\n",
       "      <td>1.000000e-10</td>\n",
       "      <td>HTR2A</td>\n",
       "      <td>17.0</td>\n",
       "      <td>12.0</td>\n",
       "      <td>1.0</td>\n",
       "      <td>0.0</td>\n",
       "      <td>5.0</td>\n",
       "      <td>75.0</td>\n",
       "    </tr>\n",
       "    <tr>\n",
       "      <th>4</th>\n",
       "      <td>1.000000e-10</td>\n",
       "      <td>CRHR2</td>\n",
       "      <td>3.0</td>\n",
       "      <td>0.0</td>\n",
       "      <td>0.0</td>\n",
       "      <td>0.0</td>\n",
       "      <td>3.0</td>\n",
       "      <td>0.0</td>\n",
       "    </tr>\n",
       "  </tbody>\n",
       "</table>\n",
       "</div>"
      ],
      "text/plain": [
       "        e_value target  pred  true  not trivial  low activity  false  \\\n",
       "0  1.000000e-10  SCN5A   1.0   1.0          0.0           0.0    0.0   \n",
       "1  1.000000e-10  CHRM3  17.0  14.0          4.0           0.0    3.0   \n",
       "2  1.000000e-10  CRHR1   0.0   0.0          0.0           0.0    0.0   \n",
       "3  1.000000e-10  HTR2A  17.0  12.0          1.0           0.0    5.0   \n",
       "4  1.000000e-10  CRHR2   3.0   0.0          0.0           0.0    3.0   \n",
       "\n",
       "   not found  \n",
       "0       19.0  \n",
       "1       43.0  \n",
       "2        0.0  \n",
       "3       75.0  \n",
       "4        0.0  "
      ]
     },
     "execution_count": 37,
     "metadata": {},
     "output_type": "execute_result"
    }
   ],
   "source": [
    "summary.head()"
   ]
  },
  {
   "cell_type": "code",
   "execution_count": 38,
   "metadata": {
    "collapsed": true
   },
   "outputs": [],
   "source": [
    "summary.to_csv(\"../data/results/\"+method+\"_summary.csv\")"
   ]
  },
  {
   "cell_type": "code",
   "execution_count": 39,
   "metadata": {
    "collapsed": false
   },
   "outputs": [
    {
     "data": {
      "text/html": [
       "<div>\n",
       "<table border=\"1\" class=\"dataframe\">\n",
       "  <thead>\n",
       "    <tr style=\"text-align: right;\">\n",
       "      <th></th>\n",
       "      <th>pred</th>\n",
       "      <th>true</th>\n",
       "      <th>not trivial</th>\n",
       "      <th>low activity</th>\n",
       "      <th>false</th>\n",
       "      <th>not found</th>\n",
       "    </tr>\n",
       "    <tr>\n",
       "      <th>e_value</th>\n",
       "      <th></th>\n",
       "      <th></th>\n",
       "      <th></th>\n",
       "      <th></th>\n",
       "      <th></th>\n",
       "      <th></th>\n",
       "    </tr>\n",
       "  </thead>\n",
       "  <tbody>\n",
       "    <tr>\n",
       "      <th>1.000000e-10</th>\n",
       "      <td>783.0</td>\n",
       "      <td>505.0</td>\n",
       "      <td>136.0</td>\n",
       "      <td>20.0</td>\n",
       "      <td>278.0</td>\n",
       "      <td>1639.0</td>\n",
       "    </tr>\n",
       "    <tr>\n",
       "      <th>1.000000e-09</th>\n",
       "      <td>824.0</td>\n",
       "      <td>529.0</td>\n",
       "      <td>142.0</td>\n",
       "      <td>20.0</td>\n",
       "      <td>295.0</td>\n",
       "      <td>1615.0</td>\n",
       "    </tr>\n",
       "    <tr>\n",
       "      <th>1.000000e-08</th>\n",
       "      <td>874.0</td>\n",
       "      <td>556.0</td>\n",
       "      <td>151.0</td>\n",
       "      <td>22.0</td>\n",
       "      <td>318.0</td>\n",
       "      <td>1588.0</td>\n",
       "    </tr>\n",
       "    <tr>\n",
       "      <th>1.000000e-07</th>\n",
       "      <td>958.0</td>\n",
       "      <td>593.0</td>\n",
       "      <td>158.0</td>\n",
       "      <td>24.0</td>\n",
       "      <td>365.0</td>\n",
       "      <td>1551.0</td>\n",
       "    </tr>\n",
       "    <tr>\n",
       "      <th>1.000000e-06</th>\n",
       "      <td>1036.0</td>\n",
       "      <td>621.0</td>\n",
       "      <td>165.0</td>\n",
       "      <td>26.0</td>\n",
       "      <td>415.0</td>\n",
       "      <td>1523.0</td>\n",
       "    </tr>\n",
       "    <tr>\n",
       "      <th>1.000000e-05</th>\n",
       "      <td>1143.0</td>\n",
       "      <td>673.0</td>\n",
       "      <td>174.0</td>\n",
       "      <td>27.0</td>\n",
       "      <td>470.0</td>\n",
       "      <td>1471.0</td>\n",
       "    </tr>\n",
       "    <tr>\n",
       "      <th>1.000000e-04</th>\n",
       "      <td>1264.0</td>\n",
       "      <td>731.0</td>\n",
       "      <td>185.0</td>\n",
       "      <td>28.0</td>\n",
       "      <td>533.0</td>\n",
       "      <td>1413.0</td>\n",
       "    </tr>\n",
       "    <tr>\n",
       "      <th>1.000000e-03</th>\n",
       "      <td>1418.0</td>\n",
       "      <td>789.0</td>\n",
       "      <td>201.0</td>\n",
       "      <td>31.0</td>\n",
       "      <td>629.0</td>\n",
       "      <td>1355.0</td>\n",
       "    </tr>\n",
       "    <tr>\n",
       "      <th>1.000000e-02</th>\n",
       "      <td>1610.0</td>\n",
       "      <td>842.0</td>\n",
       "      <td>222.0</td>\n",
       "      <td>36.0</td>\n",
       "      <td>768.0</td>\n",
       "      <td>1302.0</td>\n",
       "    </tr>\n",
       "    <tr>\n",
       "      <th>1.000000e-01</th>\n",
       "      <td>1905.0</td>\n",
       "      <td>951.0</td>\n",
       "      <td>245.0</td>\n",
       "      <td>39.0</td>\n",
       "      <td>954.0</td>\n",
       "      <td>1193.0</td>\n",
       "    </tr>\n",
       "    <tr>\n",
       "      <th>1.000000e+00</th>\n",
       "      <td>2392.0</td>\n",
       "      <td>1106.0</td>\n",
       "      <td>282.0</td>\n",
       "      <td>45.0</td>\n",
       "      <td>1286.0</td>\n",
       "      <td>1038.0</td>\n",
       "    </tr>\n",
       "  </tbody>\n",
       "</table>\n",
       "</div>"
      ],
      "text/plain": [
       "                pred    true  not trivial  low activity   false  not found\n",
       "e_value                                                                   \n",
       "1.000000e-10   783.0   505.0        136.0          20.0   278.0     1639.0\n",
       "1.000000e-09   824.0   529.0        142.0          20.0   295.0     1615.0\n",
       "1.000000e-08   874.0   556.0        151.0          22.0   318.0     1588.0\n",
       "1.000000e-07   958.0   593.0        158.0          24.0   365.0     1551.0\n",
       "1.000000e-06  1036.0   621.0        165.0          26.0   415.0     1523.0\n",
       "1.000000e-05  1143.0   673.0        174.0          27.0   470.0     1471.0\n",
       "1.000000e-04  1264.0   731.0        185.0          28.0   533.0     1413.0\n",
       "1.000000e-03  1418.0   789.0        201.0          31.0   629.0     1355.0\n",
       "1.000000e-02  1610.0   842.0        222.0          36.0   768.0     1302.0\n",
       "1.000000e-01  1905.0   951.0        245.0          39.0   954.0     1193.0\n",
       "1.000000e+00  2392.0  1106.0        282.0          45.0  1286.0     1038.0"
      ]
     },
     "execution_count": 39,
     "metadata": {},
     "output_type": "execute_result"
    }
   ],
   "source": [
    "summary_e = summary.groupby(\"e_value\").sum()[[\"pred\", \"true\", \"not trivial\", \"low activity\", \"false\", \"not found\"]]\n",
    "summary_e"
   ]
  },
  {
   "cell_type": "code",
   "execution_count": 40,
   "metadata": {
    "collapsed": false
   },
   "outputs": [],
   "source": [
    "summary_e.to_csv(\"../data/results/\"+method+\"_summary_e.csv\")"
   ]
  }
 ],
 "metadata": {
  "kernelspec": {
   "display_name": "Python 2",
   "language": "python",
   "name": "python2"
  },
  "language_info": {
   "codemirror_mode": {
    "name": "ipython",
    "version": 2
   },
   "file_extension": ".py",
   "mimetype": "text/x-python",
   "name": "python",
   "nbconvert_exporter": "python",
   "pygments_lexer": "ipython2",
   "version": "2.7.12"
  }
 },
 "nbformat": 4,
 "nbformat_minor": 0
}
